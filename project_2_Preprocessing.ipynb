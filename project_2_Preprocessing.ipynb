{
 "cells": [
  {
   "cell_type": "code",
   "execution_count": 1,
   "metadata": {},
   "outputs": [],
   "source": [
    "import time\n",
    "import glob\n",
    "import re\n",
    "import json\n",
    "from gensim.parsing.preprocessing import strip_tags, strip_numeric, strip_punctuation, strip_multiple_whitespaces, remove_stopwords, strip_short, stem_text\n",
    "from collections import defaultdict\n",
    "import string\n",
    "import numpy as np\n",
    "import pandas as pd\n",
    "from langdetect import detect\n",
    "from nltk.stem.snowball import SnowballStemmer\n",
    "import nltk"
   ]
  },
  {
   "cell_type": "code",
   "execution_count": 2,
   "metadata": {},
   "outputs": [],
   "source": [
    "# start time to save start point of the preprocessing\n",
    "start_time = time.time()\n",
    "\n",
    "# define the document path of the json files to process\n",
    "document_paths = glob.glob(\"*.json\")\n",
    "\n"
   ]
  },
  {
   "cell_type": "code",
   "execution_count": 3,
   "metadata": {},
   "outputs": [],
   "source": [
    "items_from_all_tables = {}\n",
    "for document_path in document_paths: # iterate through to path to access all json files\n",
    "    document_name = re.split(\"/\",document_path)[-1]\n",
    "    with open(document_path, \"rb\") as handle:\n",
    "        tables = json.load(handle)\n",
    "    for table_id in tables: # iterate through all tables in a json file\n",
    "        items = [cell[\"text\"] for cell in tables[table_id][\"cells\"].values() if cell[\"column\"] == 0] #save text of the table in items\n",
    "        items_from_all_tables[str(document_name+\"_\"+table_id)] = items #save the text by using the document_name and table_id as an identifier"
   ]
  },
  {
   "cell_type": "code",
   "execution_count": 4,
   "metadata": {},
   "outputs": [],
   "source": [
    "# define remove punctuation function\n",
    "def remove_all_punctuation(word: str) -> str:\n",
    "    for p in string.punctuation:\n",
    "        word = str(word).replace(p, \"\")\n",
    "    return word"
   ]
  },
  {
   "cell_type": "code",
   "execution_count": 5,
   "metadata": {},
   "outputs": [],
   "source": [
    "# remove_all_but_alpha function\n",
    "def remove_all_but_alpha(word: str) -> str:\n",
    "    word = re.sub(\"[^aA-zZäöü ]\", \"\", word)\n",
    "    return word"
   ]
  },
  {
   "cell_type": "code",
   "execution_count": 6,
   "metadata": {},
   "outputs": [],
   "source": [
    "# define function to clean text\n",
    "def clean_text(text):\n",
    "    \"\"\" Remove punctuation, numbers, whitespace, small words\"\"\"\n",
    "    text = remove_all_punctuation(text)\n",
    "    text = remove_all_but_alpha(text)\n",
    "    word_list = text.split()\n",
    "    word_list = [word.lower() for word in word_list if len(word)>2]\n",
    "    text_cleaned = \" \".join(word_list)\n",
    "    return text_cleaned"
   ]
  },
  {
   "cell_type": "code",
   "execution_count": 7,
   "metadata": {},
   "outputs": [],
   "source": [
    "# Clean all items\n",
    "clean_items_from_tables = defaultdict(list)\n",
    "for table_id, item_list in items_from_all_tables.items():\n",
    "    clean_items_from_tables[table_id] = []\n",
    "    for item in item_list:\n",
    "        item = clean_text(item)\n",
    "        if item:\n",
    "            clean_items_from_tables[table_id].append(item)"
   ]
  },
  {
   "cell_type": "code",
   "execution_count": 8,
   "metadata": {},
   "outputs": [],
   "source": [
    "items_per_table = [\" \".join(text) for text in clean_items_from_tables.values()]\n",
    "key_per_table = [\"\".join(key) for key in clean_items_from_tables.keys()]\n",
    "items_per_table_array = np.array(items_per_table)"
   ]
  },
  {
   "cell_type": "code",
   "execution_count": 9,
   "metadata": {},
   "outputs": [],
   "source": [
    "# initalize a dataframe to store the entries of each table in a row\n",
    "df = pd.DataFrame(index=np.arange(len(items_per_table_array)))\n",
    "df['content']=None\n",
    "df['content_stemmed']=\" \"\n",
    "df['id']=None\n",
    "df['table_id']=None\n",
    "df['json']=None\n",
    "df['type']=None"
   ]
  },
  {
   "cell_type": "code",
   "execution_count": 10,
   "metadata": {},
   "outputs": [],
   "source": [
    "# filling the dataframe with the data\n",
    "for i in range(len(df)):\n",
    "    df['content'][i]=items_per_table_array[i]\n",
    "    df['id'][i]=key_per_table[i].split(\".\")   \n",
    "    df['json'][i]=df['id'][i][0]\n",
    "    df['table_id'][i]=df['id'][i][1]\n",
    "df=df.drop(columns=['id'])"
   ]
  },
  {
   "cell_type": "code",
   "execution_count": 11,
   "metadata": {},
   "outputs": [
    {
     "name": "stdout",
     "output_type": "stream",
     "text": [
      "entries before:4135\n",
      "entries after :4091\n"
     ]
    }
   ],
   "source": [
    "# remove empty entries\n",
    "print(\"entries before:\"+ str(len(df)))\n",
    "df['content1']=df['content']\n",
    "df['content1'].replace('', np.nan, inplace=True)\n",
    "df.dropna(subset=['content1'], inplace=True)\n",
    "print(\"entries after :\"+str(len(df)))\n",
    "df=df.drop(columns=['content1'])\n",
    "df=df.reset_index()"
   ]
  },
  {
   "cell_type": "code",
   "execution_count": 12,
   "metadata": {},
   "outputs": [
    {
     "data": {
      "text/html": [
       "<div>\n",
       "<style scoped>\n",
       "    .dataframe tbody tr th:only-of-type {\n",
       "        vertical-align: middle;\n",
       "    }\n",
       "\n",
       "    .dataframe tbody tr th {\n",
       "        vertical-align: top;\n",
       "    }\n",
       "\n",
       "    .dataframe thead th {\n",
       "        text-align: right;\n",
       "    }\n",
       "</style>\n",
       "<table border=\"1\" class=\"dataframe\">\n",
       "  <thead>\n",
       "    <tr style=\"text-align: right;\">\n",
       "      <th></th>\n",
       "      <th>index</th>\n",
       "      <th>content</th>\n",
       "      <th>content_stemmed</th>\n",
       "      <th>table_id</th>\n",
       "      <th>json</th>\n",
       "      <th>type</th>\n",
       "    </tr>\n",
       "  </thead>\n",
       "  <tbody>\n",
       "    <tr>\n",
       "      <th>0</th>\n",
       "      <td>0</td>\n",
       "      <td>name gmbhweling</td>\n",
       "      <td></td>\n",
       "      <td>json_table_0</td>\n",
       "      <td>0</td>\n",
       "      <td>None</td>\n",
       "    </tr>\n",
       "    <tr>\n",
       "      <th>1</th>\n",
       "      <td>1</td>\n",
       "      <td>anlagevermögen sonstige vermögensgegenstände k...</td>\n",
       "      <td></td>\n",
       "      <td>json_table_1</td>\n",
       "      <td>0</td>\n",
       "      <td>None</td>\n",
       "    </tr>\n",
       "    <tr>\n",
       "      <th>2</th>\n",
       "      <td>2</td>\n",
       "      <td>eigenkapital gezeichnetes kapital ergebnistvor...</td>\n",
       "      <td></td>\n",
       "      <td>json_table_2</td>\n",
       "      <td>0</td>\n",
       "      <td>None</td>\n",
       "    </tr>\n",
       "    <tr>\n",
       "      <th>3</th>\n",
       "      <td>3</td>\n",
       "      <td>name world gmbh vormals bhk zwischenhandelsges...</td>\n",
       "      <td></td>\n",
       "      <td>json_table_0</td>\n",
       "      <td>1</td>\n",
       "      <td>None</td>\n",
       "    </tr>\n",
       "    <tr>\n",
       "      <th>4</th>\n",
       "      <td>4</td>\n",
       "      <td>anlagevermögen sachanlagen umlaufvermögen ford...</td>\n",
       "      <td></td>\n",
       "      <td>json_table_1</td>\n",
       "      <td>1</td>\n",
       "      <td>None</td>\n",
       "    </tr>\n",
       "  </tbody>\n",
       "</table>\n",
       "</div>"
      ],
      "text/plain": [
       "   index                                            content content_stemmed  \\\n",
       "0      0                                    name gmbhweling                   \n",
       "1      1  anlagevermögen sonstige vermögensgegenstände k...                   \n",
       "2      2  eigenkapital gezeichnetes kapital ergebnistvor...                   \n",
       "3      3  name world gmbh vormals bhk zwischenhandelsges...                   \n",
       "4      4  anlagevermögen sachanlagen umlaufvermögen ford...                   \n",
       "\n",
       "       table_id json  type  \n",
       "0  json_table_0    0  None  \n",
       "1  json_table_1    0  None  \n",
       "2  json_table_2    0  None  \n",
       "3  json_table_0    1  None  \n",
       "4  json_table_1    1  None  "
      ]
     },
     "execution_count": 12,
     "metadata": {},
     "output_type": "execute_result"
    }
   ],
   "source": [
    "df.head()"
   ]
  },
  {
   "cell_type": "code",
   "execution_count": 13,
   "metadata": {},
   "outputs": [
    {
     "name": "stdout",
     "output_type": "stream",
     "text": [
      "entries before:4091\n",
      "entries after:3898\n"
     ]
    }
   ],
   "source": [
    "# remove english tables\n",
    "print(\"entries before:\"+ str(len(df)))\n",
    "j=0\n",
    "for i in range(len(df)):\n",
    "    if detect(df.content[i])=='en':\n",
    "        j=j+1       \n",
    "        df=df.drop(index=i)\n",
    "print(\"entries after:\"+ str(len(df)))\n",
    "df=df.reset_index()"
   ]
  },
  {
   "cell_type": "code",
   "execution_count": 14,
   "metadata": {},
   "outputs": [
    {
     "name": "stderr",
     "output_type": "stream",
     "text": [
      "C:\\Users\\Friese\\anaconda3\\lib\\site-packages\\ipykernel_launcher.py:5: SettingWithCopyWarning: \n",
      "A value is trying to be set on a copy of a slice from a DataFrame\n",
      "\n",
      "See the caveats in the documentation: https://pandas.pydata.org/pandas-docs/stable/user_guide/indexing.html#returning-a-view-versus-a-copy\n",
      "  \"\"\"\n"
     ]
    },
    {
     "data": {
      "text/html": [
       "<div>\n",
       "<style scoped>\n",
       "    .dataframe tbody tr th:only-of-type {\n",
       "        vertical-align: middle;\n",
       "    }\n",
       "\n",
       "    .dataframe tbody tr th {\n",
       "        vertical-align: top;\n",
       "    }\n",
       "\n",
       "    .dataframe thead th {\n",
       "        text-align: right;\n",
       "    }\n",
       "</style>\n",
       "<table border=\"1\" class=\"dataframe\">\n",
       "  <thead>\n",
       "    <tr style=\"text-align: right;\">\n",
       "      <th></th>\n",
       "      <th>level_0</th>\n",
       "      <th>index</th>\n",
       "      <th>content</th>\n",
       "      <th>content_stemmed</th>\n",
       "      <th>table_id</th>\n",
       "      <th>json</th>\n",
       "      <th>type</th>\n",
       "    </tr>\n",
       "  </thead>\n",
       "  <tbody>\n",
       "    <tr>\n",
       "      <th>0</th>\n",
       "      <td>0</td>\n",
       "      <td>0</td>\n",
       "      <td>name gmbhweling</td>\n",
       "      <td>nam gmbhweling</td>\n",
       "      <td>json_table_0</td>\n",
       "      <td>0</td>\n",
       "      <td>None</td>\n",
       "    </tr>\n",
       "    <tr>\n",
       "      <th>1</th>\n",
       "      <td>1</td>\n",
       "      <td>1</td>\n",
       "      <td>anlagevermögen sonstige vermögensgegenstände k...</td>\n",
       "      <td>anlagevermog sonstig vermogensgegenstand kas...</td>\n",
       "      <td>json_table_1</td>\n",
       "      <td>0</td>\n",
       "      <td>None</td>\n",
       "    </tr>\n",
       "    <tr>\n",
       "      <th>2</th>\n",
       "      <td>2</td>\n",
       "      <td>2</td>\n",
       "      <td>eigenkapital gezeichnetes kapital ergebnistvor...</td>\n",
       "      <td>eigenkapital gezeichnet kapital ergebnistvor...</td>\n",
       "      <td>json_table_2</td>\n",
       "      <td>0</td>\n",
       "      <td>None</td>\n",
       "    </tr>\n",
       "    <tr>\n",
       "      <th>3</th>\n",
       "      <td>3</td>\n",
       "      <td>3</td>\n",
       "      <td>name world gmbh vormals bhk zwischenhandelsges...</td>\n",
       "      <td>nam world gmbh vormal bhk zwischenhandelsges...</td>\n",
       "      <td>json_table_0</td>\n",
       "      <td>1</td>\n",
       "      <td>None</td>\n",
       "    </tr>\n",
       "    <tr>\n",
       "      <th>4</th>\n",
       "      <td>4</td>\n",
       "      <td>4</td>\n",
       "      <td>anlagevermögen sachanlagen umlaufvermögen ford...</td>\n",
       "      <td>anlagevermog sachanlag umlaufvermog forder u...</td>\n",
       "      <td>json_table_1</td>\n",
       "      <td>1</td>\n",
       "      <td>None</td>\n",
       "    </tr>\n",
       "  </tbody>\n",
       "</table>\n",
       "</div>"
      ],
      "text/plain": [
       "   level_0  index                                            content  \\\n",
       "0        0      0                                    name gmbhweling   \n",
       "1        1      1  anlagevermögen sonstige vermögensgegenstände k...   \n",
       "2        2      2  eigenkapital gezeichnetes kapital ergebnistvor...   \n",
       "3        3      3  name world gmbh vormals bhk zwischenhandelsges...   \n",
       "4        4      4  anlagevermögen sachanlagen umlaufvermögen ford...   \n",
       "\n",
       "                                     content_stemmed      table_id json  type  \n",
       "0                                     nam gmbhweling  json_table_0    0  None  \n",
       "1    anlagevermog sonstig vermogensgegenstand kas...  json_table_1    0  None  \n",
       "2    eigenkapital gezeichnet kapital ergebnistvor...  json_table_2    0  None  \n",
       "3    nam world gmbh vormal bhk zwischenhandelsges...  json_table_0    1  None  \n",
       "4    anlagevermog sachanlag umlaufvermog forder u...  json_table_1    1  None  "
      ]
     },
     "execution_count": 14,
     "metadata": {},
     "output_type": "execute_result"
    }
   ],
   "source": [
    "# stemm the content and save them in content_stemmed\n",
    "stemmer = SnowballStemmer(\"german\")\n",
    "for i in range(len(df)):\n",
    "    for item in nltk.word_tokenize(df.content[i]):\n",
    "        df.content_stemmed[i]=str(df.content_stemmed[i])+' '+ stemmer.stem(item)\n",
    "df.head()"
   ]
  },
  {
   "cell_type": "code",
   "execution_count": 15,
   "metadata": {},
   "outputs": [],
   "source": [
    "# save dataframe in csv with the name tables_preprocessed\n",
    "df.to_csv('tables_preprocessed')"
   ]
  },
  {
   "cell_type": "code",
   "execution_count": 16,
   "metadata": {},
   "outputs": [
    {
     "name": "stdout",
     "output_type": "stream",
     "text": [
      "--- 40.7199969291687 seconds ---\n"
     ]
    }
   ],
   "source": [
    "print(\"--- %s seconds ---\" % (time.time() - start_time))"
   ]
  },
  {
   "cell_type": "code",
   "execution_count": null,
   "metadata": {},
   "outputs": [],
   "source": []
  }
 ],
 "metadata": {
  "kernelspec": {
   "display_name": "tws",
   "language": "python",
   "name": "tws"
  },
  "language_info": {
   "codemirror_mode": {
    "name": "ipython",
    "version": 3
   },
   "file_extension": ".py",
   "mimetype": "text/x-python",
   "name": "python",
   "nbconvert_exporter": "python",
   "pygments_lexer": "ipython3",
   "version": "3.7.6"
  }
 },
 "nbformat": 4,
 "nbformat_minor": 4
}
