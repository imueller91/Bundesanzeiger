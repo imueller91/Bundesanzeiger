{
 "cells": [
  {
   "cell_type": "code",
   "execution_count": 2,
   "metadata": {},
   "outputs": [],
   "source": [
    "import pandas as pd\n",
    "import numpy as np\n",
    "import matplotlib.pyplot as plt\n",
    "from sklearn.feature_extraction.text import TfidfVectorizer\n",
    "from sklearn.model_selection import train_test_split\n",
    "from sklearn.pipeline import Pipeline\n",
    "from sklearn.ensemble import RandomForestClassifier\n",
    "from sklearn.model_selection import GridSearchCV\n",
    "from sklearn.metrics import classification_report, accuracy_score\n",
    "from sklearn.model_selection import cross_val_score\n",
    "from sklearn.naive_bayes import MultinomialNB\n",
    "from sklearn.linear_model import LogisticRegression\n",
    "import logging"
   ]
  },
  {
   "cell_type": "markdown",
   "metadata": {},
   "source": [
    "# Loading the Data"
   ]
  },
  {
   "cell_type": "code",
   "execution_count": 3,
   "metadata": {},
   "outputs": [],
   "source": [
    "# Loading data (final: labled 412 tables)\n",
    "df_final = pd.read_csv('df_labelling_final.csv', dtype={\"type\":str}, index_col=[0])"
   ]
  },
  {
   "cell_type": "code",
   "execution_count": 20,
   "metadata": {
    "scrolled": true
   },
   "outputs": [
    {
     "name": "stdout",
     "output_type": "stream",
     "text": [
      "Total number of labeled tables is 451.\n"
     ]
    },
    {
     "data": {
      "text/html": [
       "<div>\n",
       "<style scoped>\n",
       "    .dataframe tbody tr th:only-of-type {\n",
       "        vertical-align: middle;\n",
       "    }\n",
       "\n",
       "    .dataframe tbody tr th {\n",
       "        vertical-align: top;\n",
       "    }\n",
       "\n",
       "    .dataframe thead th {\n",
       "        text-align: right;\n",
       "    }\n",
       "</style>\n",
       "<table border=\"1\" class=\"dataframe\">\n",
       "  <thead>\n",
       "    <tr style=\"text-align: right;\">\n",
       "      <th></th>\n",
       "      <th>count</th>\n",
       "    </tr>\n",
       "    <tr>\n",
       "      <th>type</th>\n",
       "      <th></th>\n",
       "    </tr>\n",
       "  </thead>\n",
       "  <tbody>\n",
       "    <tr>\n",
       "      <th>not relevant</th>\n",
       "      <td>96</td>\n",
       "    </tr>\n",
       "    <tr>\n",
       "      <th>Bilanz</th>\n",
       "      <td>45</td>\n",
       "    </tr>\n",
       "    <tr>\n",
       "      <th>Information</th>\n",
       "      <td>42</td>\n",
       "    </tr>\n",
       "    <tr>\n",
       "      <th>Passiva</th>\n",
       "      <td>39</td>\n",
       "    </tr>\n",
       "    <tr>\n",
       "      <th>Vermögenswerte</th>\n",
       "      <td>39</td>\n",
       "    </tr>\n",
       "    <tr>\n",
       "      <th>Entwicklung des Anlagevermögens</th>\n",
       "      <td>38</td>\n",
       "    </tr>\n",
       "    <tr>\n",
       "      <th>Aktiva</th>\n",
       "      <td>37</td>\n",
       "    </tr>\n",
       "    <tr>\n",
       "      <th>Verbindlichkeiten</th>\n",
       "      <td>35</td>\n",
       "    </tr>\n",
       "    <tr>\n",
       "      <th>Forderungen</th>\n",
       "      <td>26</td>\n",
       "    </tr>\n",
       "    <tr>\n",
       "      <th>Gewinn und Verlust Rechnung</th>\n",
       "      <td>20</td>\n",
       "    </tr>\n",
       "    <tr>\n",
       "      <th>Rückstellungen</th>\n",
       "      <td>12</td>\n",
       "    </tr>\n",
       "    <tr>\n",
       "      <th>Kapitalflussrechnung</th>\n",
       "      <td>10</td>\n",
       "    </tr>\n",
       "    <tr>\n",
       "      <th>Anteilsbesitz</th>\n",
       "      <td>9</td>\n",
       "    </tr>\n",
       "    <tr>\n",
       "      <th>Arbeitnehmer</th>\n",
       "      <td>2</td>\n",
       "    </tr>\n",
       "    <tr>\n",
       "      <th>Umsatzerlöse</th>\n",
       "      <td>1</td>\n",
       "    </tr>\n",
       "  </tbody>\n",
       "</table>\n",
       "</div>"
      ],
      "text/plain": [
       "                                 count\n",
       "type                                  \n",
       "not relevant                        96\n",
       "Bilanz                              45\n",
       "Information                         42\n",
       "Passiva                             39\n",
       "Vermögenswerte                      39\n",
       "Entwicklung des Anlagevermögens     38\n",
       "Aktiva                              37\n",
       "Verbindlichkeiten                   35\n",
       "Forderungen                         26\n",
       "Gewinn und Verlust Rechnung         20\n",
       "Rückstellungen                      12\n",
       "Kapitalflussrechnung                10\n",
       "Anteilsbesitz                        9\n",
       "Arbeitnehmer                         2\n",
       "Umsatzerlöse                         1"
      ]
     },
     "execution_count": 20,
     "metadata": {},
     "output_type": "execute_result"
    }
   ],
   "source": [
    "df_final_labeled = df_final.dropna(axis=0)\n",
    "print(\"Total number of labeled tables is {}.\".format(str(len(df_final_labeled))))\n",
    "\n",
    "#Aggregating the labels\n",
    "labeled_summary = df_final_labeled[['type', 'max_prob']].groupby('type').count()\n",
    "labeled_summary.rename(columns={'max_prob':'count'}, inplace=True)\n",
    "labeled_summary = labeled_summary.sort_values(by=['count'], ascending=False)\n",
    "labeled_summary"
   ]
  },
  {
   "cell_type": "code",
   "execution_count": 5,
   "metadata": {},
   "outputs": [
    {
     "data": {
      "image/png": "[encoded data removed]",
      "text/plain": [
       "<Figure size 432x288 with 1 Axes>"
      ]
     },
     "metadata": {
      "needs_background": "light"
     },
     "output_type": "display_data"
    }
   ],
   "source": [
    "labeled_summary.plot(kind='barh', color='c', width= 0.8)\n",
    "plt.title(\"Tables by assigned label\")\n",
    "plt.rc('xtick', labelsize=10) \n",
    "plt.rc('ytick', labelsize=10) "
   ]
  },
  {
   "cell_type": "markdown",
   "metadata": {},
   "source": [
    "## Disribution of Predicted Labels"
   ]
  },
  {
   "cell_type": "code",
   "execution_count": 21,
   "metadata": {},
   "outputs": [
    {
     "data": {
      "text/html": [
       "<div>\n",
       "<style scoped>\n",
       "    .dataframe tbody tr th:only-of-type {\n",
       "        vertical-align: middle;\n",
       "    }\n",
       "\n",
       "    .dataframe tbody tr th {\n",
       "        vertical-align: top;\n",
       "    }\n",
       "\n",
       "    .dataframe thead th {\n",
       "        text-align: right;\n",
       "    }\n",
       "</style>\n",
       "<table border=\"1\" class=\"dataframe\">\n",
       "  <thead>\n",
       "    <tr style=\"text-align: right;\">\n",
       "      <th></th>\n",
       "      <th>count</th>\n",
       "    </tr>\n",
       "    <tr>\n",
       "      <th>prediction</th>\n",
       "      <th></th>\n",
       "    </tr>\n",
       "  </thead>\n",
       "  <tbody>\n",
       "    <tr>\n",
       "      <th>Information</th>\n",
       "      <td>889</td>\n",
       "    </tr>\n",
       "    <tr>\n",
       "      <th>not relevant</th>\n",
       "      <td>713</td>\n",
       "    </tr>\n",
       "    <tr>\n",
       "      <th>Aktiva</th>\n",
       "      <td>618</td>\n",
       "    </tr>\n",
       "    <tr>\n",
       "      <th>Passiva</th>\n",
       "      <td>618</td>\n",
       "    </tr>\n",
       "    <tr>\n",
       "      <th>Bilanz</th>\n",
       "      <td>342</td>\n",
       "    </tr>\n",
       "    <tr>\n",
       "      <th>Entwicklung des Anlagevermögens</th>\n",
       "      <td>198</td>\n",
       "    </tr>\n",
       "    <tr>\n",
       "      <th>Verbindlichkeiten</th>\n",
       "      <td>168</td>\n",
       "    </tr>\n",
       "    <tr>\n",
       "      <th>Gewinn und Verlust Rechnung</th>\n",
       "      <td>102</td>\n",
       "    </tr>\n",
       "    <tr>\n",
       "      <th>Forderungen</th>\n",
       "      <td>92</td>\n",
       "    </tr>\n",
       "    <tr>\n",
       "      <th>Vermögenswerte</th>\n",
       "      <td>70</td>\n",
       "    </tr>\n",
       "    <tr>\n",
       "      <th>Rückstellungen</th>\n",
       "      <td>23</td>\n",
       "    </tr>\n",
       "    <tr>\n",
       "      <th>Anteilsbesitz</th>\n",
       "      <td>12</td>\n",
       "    </tr>\n",
       "    <tr>\n",
       "      <th>Kapitalflussrechnung</th>\n",
       "      <td>12</td>\n",
       "    </tr>\n",
       "  </tbody>\n",
       "</table>\n",
       "</div>"
      ],
      "text/plain": [
       "                                 count\n",
       "prediction                            \n",
       "Information                        889\n",
       "not relevant                       713\n",
       "Aktiva                             618\n",
       "Passiva                            618\n",
       "Bilanz                             342\n",
       "Entwicklung des Anlagevermögens    198\n",
       "Verbindlichkeiten                  168\n",
       "Gewinn und Verlust Rechnung        102\n",
       "Forderungen                         92\n",
       "Vermögenswerte                      70\n",
       "Rückstellungen                      23\n",
       "Anteilsbesitz                       12\n",
       "Kapitalflussrechnung                12"
      ]
     },
     "execution_count": 21,
     "metadata": {},
     "output_type": "execute_result"
    }
   ],
   "source": [
    "#Aggregating the labels\n",
    "predicted_labels = df_final[['prediction', 'max_prob']].groupby('prediction').count()\n",
    "predicted_labels.rename(columns={'max_prob':'count'}, inplace=True)\n",
    "predicted_labels = predicted_labels.sort_values(by=['count'], ascending=False)\n",
    "predicted_labels"
   ]
  },
  {
   "cell_type": "code",
   "execution_count": 7,
   "metadata": {},
   "outputs": [
    {
     "data": {
      "image/png": "[encoded data removed]",
      "text/plain": [
       "<Figure size 432x288 with 1 Axes>"
      ]
     },
     "metadata": {
      "needs_background": "light"
     },
     "output_type": "display_data"
    }
   ],
   "source": [
    "predicted_labels.plot(kind='barh', color='c', width= 0.8)\n",
    "plt.title(\"Prediction by table type\")\n",
    "plt.rc('xtick', labelsize=10) \n",
    "plt.rc('ytick', labelsize=10) "
   ]
  },
  {
   "cell_type": "markdown",
   "metadata": {},
   "source": [
    "## Vectorizing to compare first labeled table with last one"
   ]
  },
  {
   "cell_type": "code",
   "execution_count": 10,
   "metadata": {},
   "outputs": [
    {
     "name": "stdout",
     "output_type": "stream",
     "text": [
      "451\n"
     ]
    }
   ],
   "source": [
    "# defining training set and target\n",
    "df_train_final = df_final.dropna(axis=0) #remove rows which don't have a lable yet\n",
    "y_train_final = df_final.type.dropna(axis=0)\n",
    "print(len(df_train_final))"
   ]
  },
  {
   "cell_type": "code",
   "execution_count": 11,
   "metadata": {},
   "outputs": [],
   "source": [
    "# vectorize train set\n",
    "model = TfidfVectorizer(min_df=0.1) \n",
    "tf_train_final = model.fit_transform(df_train_final.content_stemmed) #for training the data"
   ]
  },
  {
   "cell_type": "markdown",
   "metadata": {},
   "source": [
    "# Random Forest Classifier"
   ]
  },
  {
   "cell_type": "code",
   "execution_count": 12,
   "metadata": {},
   "outputs": [],
   "source": [
    "#splitting test and training data on \n",
    "docs_train, docs_test, y_train, y_test = train_test_split(df_train_final.content_stemmed, # Independent variables\n",
    "                                                        df_train_final.type,            # Dependent variables\n",
    "                                                        test_size = 0.20,           # 20% becomes test data\n",
    "                                                        random_state = 12)          # Identifying the random seed for reproducibility"
   ]
  },
  {
   "cell_type": "code",
   "execution_count": 13,
   "metadata": {},
   "outputs": [
    {
     "name": "stderr",
     "output_type": "stream",
     "text": [
      "C:\\Users\\Friese\\anaconda3\\lib\\site-packages\\sklearn\\model_selection\\_split.py:672: UserWarning: The least populated class in y has only 1 members, which is less than n_splits=5.\n",
      "  % (min_groups, self.n_splits)), UserWarning)\n"
     ]
    },
    {
     "name": "stdout",
     "output_type": "stream",
     "text": [
      "{'clf__min_samples_leaf': 1, 'clf__n_estimators': 50, 'tfidf__max_df': 0.9, 'tfidf__min_df': 0.1}\n"
     ]
    }
   ],
   "source": [
    "#Defininf the Pipeline\n",
    "pipe = Pipeline([\n",
    "    ('tfidf', TfidfVectorizer()),\n",
    "    ('clf', RandomForestClassifier())\n",
    "])\n",
    "\n",
    "#Defininf the Parameters grid\n",
    "param_grid = {\n",
    "    'tfidf__max_df':  [0.9, 0.95],\n",
    "    'tfidf__min_df': [0.1, 0.15],\n",
    "    'clf__min_samples_leaf': [1, 2, 3, 4], \n",
    "    'clf__n_estimators': [10, 20, 50, 100, 200]\n",
    "}\n",
    "\n",
    "#Initiating Grid Search\n",
    "grid_search = GridSearchCV(pipe, param_grid, scoring=\"accuracy\", cv=5) #scoring=\"precision\" instead of scoring=\"accuracy\"\n",
    "#Fitting the Grid Search\n",
    "grid_search.fit(docs_train, y_train) \n",
    "\n",
    "#Defining model with best parameters\n",
    "best_rf = grid_search.best_estimator_ \n",
    "print(grid_search.best_params_)"
   ]
  },
  {
   "cell_type": "code",
   "execution_count": 14,
   "metadata": {},
   "outputs": [
    {
     "name": "stdout",
     "output_type": "stream",
     "text": [
      "                                 precision    recall  f1-score   support\n",
      "\n",
      "                         Aktiva       1.00      0.71      0.83         7\n",
      "                  Anteilsbesitz       1.00      1.00      1.00         1\n",
      "                   Arbeitnehmer       0.00      0.00      0.00         1\n",
      "                         Bilanz       0.88      0.78      0.82         9\n",
      "Entwicklung des Anlagevermögens       0.89      1.00      0.94         8\n",
      "                    Forderungen       0.62      0.83      0.71         6\n",
      "    Gewinn und Verlust Rechnung       0.86      1.00      0.92         6\n",
      "                    Information       1.00      1.00      1.00         8\n",
      "           Kapitalflussrechnung       1.00      0.75      0.86         4\n",
      "                        Passiva       0.71      0.62      0.67         8\n",
      "                 Rückstellungen       1.00      1.00      1.00         5\n",
      "                   Umsatzerlöse       0.00      0.00      0.00         1\n",
      "              Verbindlichkeiten       0.83      0.62      0.71         8\n",
      "                 Vermögenswerte       0.50      0.75      0.60         4\n",
      "                   not relevant       0.61      0.73      0.67        15\n",
      "\n",
      "                       accuracy                           0.79        91\n",
      "                      macro avg       0.73      0.72      0.72        91\n",
      "                   weighted avg       0.80      0.79      0.79        91\n",
      "\n"
     ]
    },
    {
     "name": "stderr",
     "output_type": "stream",
     "text": [
      "C:\\Users\\Friese\\anaconda3\\lib\\site-packages\\sklearn\\metrics\\_classification.py:1221: UndefinedMetricWarning: Precision and F-score are ill-defined and being set to 0.0 in labels with no predicted samples. Use `zero_division` parameter to control this behavior.\n",
      "  _warn_prf(average, modifier, msg_start, len(result))\n"
     ]
    }
   ],
   "source": [
    "#Predicting the test results\n",
    "y_pred_rf = best_rf.predict(docs_test)\n",
    "\n",
    "#Comparing to actual test results\n",
    "print(classification_report(y_test, y_pred_rf))"
   ]
  },
  {
   "cell_type": "markdown",
   "metadata": {},
   "source": [
    "# Naive Bayes Classifier"
   ]
  },
  {
   "cell_type": "code",
   "execution_count": 15,
   "metadata": {},
   "outputs": [
    {
     "data": {
      "text/html": [
       "<div>\n",
       "<style scoped>\n",
       "    .dataframe tbody tr th:only-of-type {\n",
       "        vertical-align: middle;\n",
       "    }\n",
       "\n",
       "    .dataframe tbody tr th {\n",
       "        vertical-align: top;\n",
       "    }\n",
       "\n",
       "    .dataframe thead th {\n",
       "        text-align: right;\n",
       "    }\n",
       "</style>\n",
       "<table border=\"1\" class=\"dataframe\">\n",
       "  <thead>\n",
       "    <tr style=\"text-align: right;\">\n",
       "      <th></th>\n",
       "      <th>aktiva</th>\n",
       "      <th>and</th>\n",
       "      <th>anlag</th>\n",
       "      <th>anlagevermog</th>\n",
       "      <th>anzahl</th>\n",
       "      <th>auf</th>\n",
       "      <th>aus</th>\n",
       "      <th>bei</th>\n",
       "      <th>betrieb</th>\n",
       "      <th>bilanzsumm</th>\n",
       "      <th>...</th>\n",
       "      <th>sachanlag</th>\n",
       "      <th>sonstig</th>\n",
       "      <th>summ</th>\n",
       "      <th>umlaufvermog</th>\n",
       "      <th>und</th>\n",
       "      <th>unternehm</th>\n",
       "      <th>verbind</th>\n",
       "      <th>verbund</th>\n",
       "      <th>vermogensgegenstand</th>\n",
       "      <th>von</th>\n",
       "    </tr>\n",
       "  </thead>\n",
       "  <tbody>\n",
       "    <tr>\n",
       "      <th>766</th>\n",
       "      <td>0.229765</td>\n",
       "      <td>0.0</td>\n",
       "      <td>0.0</td>\n",
       "      <td>0.213463</td>\n",
       "      <td>0.0</td>\n",
       "      <td>0.0</td>\n",
       "      <td>0.000000</td>\n",
       "      <td>0.213463</td>\n",
       "      <td>0.0</td>\n",
       "      <td>0.488714</td>\n",
       "      <td>...</td>\n",
       "      <td>0.0</td>\n",
       "      <td>0.000000</td>\n",
       "      <td>0.336073</td>\n",
       "      <td>0.214806</td>\n",
       "      <td>0.120075</td>\n",
       "      <td>0.000000</td>\n",
       "      <td>0.000000</td>\n",
       "      <td>0.000000</td>\n",
       "      <td>0.0</td>\n",
       "      <td>0.000000</td>\n",
       "    </tr>\n",
       "    <tr>\n",
       "      <th>1726</th>\n",
       "      <td>0.638211</td>\n",
       "      <td>0.0</td>\n",
       "      <td>0.0</td>\n",
       "      <td>0.000000</td>\n",
       "      <td>0.0</td>\n",
       "      <td>0.0</td>\n",
       "      <td>0.000000</td>\n",
       "      <td>0.000000</td>\n",
       "      <td>0.0</td>\n",
       "      <td>0.339371</td>\n",
       "      <td>...</td>\n",
       "      <td>0.0</td>\n",
       "      <td>0.000000</td>\n",
       "      <td>0.233375</td>\n",
       "      <td>0.298330</td>\n",
       "      <td>0.000000</td>\n",
       "      <td>0.000000</td>\n",
       "      <td>0.000000</td>\n",
       "      <td>0.000000</td>\n",
       "      <td>0.0</td>\n",
       "      <td>0.000000</td>\n",
       "    </tr>\n",
       "    <tr>\n",
       "      <th>93</th>\n",
       "      <td>0.000000</td>\n",
       "      <td>0.0</td>\n",
       "      <td>0.0</td>\n",
       "      <td>0.000000</td>\n",
       "      <td>0.0</td>\n",
       "      <td>0.0</td>\n",
       "      <td>0.781768</td>\n",
       "      <td>0.000000</td>\n",
       "      <td>0.0</td>\n",
       "      <td>0.000000</td>\n",
       "      <td>...</td>\n",
       "      <td>0.0</td>\n",
       "      <td>0.623570</td>\n",
       "      <td>0.000000</td>\n",
       "      <td>0.000000</td>\n",
       "      <td>0.000000</td>\n",
       "      <td>0.000000</td>\n",
       "      <td>0.000000</td>\n",
       "      <td>0.000000</td>\n",
       "      <td>0.0</td>\n",
       "      <td>0.000000</td>\n",
       "    </tr>\n",
       "    <tr>\n",
       "      <th>460</th>\n",
       "      <td>0.000000</td>\n",
       "      <td>0.0</td>\n",
       "      <td>0.0</td>\n",
       "      <td>0.000000</td>\n",
       "      <td>0.0</td>\n",
       "      <td>0.0</td>\n",
       "      <td>0.581195</td>\n",
       "      <td>0.000000</td>\n",
       "      <td>0.0</td>\n",
       "      <td>0.000000</td>\n",
       "      <td>...</td>\n",
       "      <td>0.0</td>\n",
       "      <td>0.115896</td>\n",
       "      <td>0.151527</td>\n",
       "      <td>0.000000</td>\n",
       "      <td>0.216556</td>\n",
       "      <td>0.181446</td>\n",
       "      <td>0.147107</td>\n",
       "      <td>0.208702</td>\n",
       "      <td>0.0</td>\n",
       "      <td>0.440699</td>\n",
       "    </tr>\n",
       "    <tr>\n",
       "      <th>561</th>\n",
       "      <td>0.000000</td>\n",
       "      <td>0.0</td>\n",
       "      <td>0.0</td>\n",
       "      <td>0.000000</td>\n",
       "      <td>0.0</td>\n",
       "      <td>0.0</td>\n",
       "      <td>0.000000</td>\n",
       "      <td>0.000000</td>\n",
       "      <td>0.0</td>\n",
       "      <td>0.000000</td>\n",
       "      <td>...</td>\n",
       "      <td>0.0</td>\n",
       "      <td>0.000000</td>\n",
       "      <td>0.000000</td>\n",
       "      <td>0.000000</td>\n",
       "      <td>0.269476</td>\n",
       "      <td>0.000000</td>\n",
       "      <td>0.000000</td>\n",
       "      <td>0.000000</td>\n",
       "      <td>0.0</td>\n",
       "      <td>0.000000</td>\n",
       "    </tr>\n",
       "  </tbody>\n",
       "</table>\n",
       "<p>5 rows × 44 columns</p>\n",
       "</div>"
      ],
      "text/plain": [
       "        aktiva  and  anlag  anlagevermog  anzahl  auf       aus       bei  \\\n",
       "766   0.229765  0.0    0.0      0.213463     0.0  0.0  0.000000  0.213463   \n",
       "1726  0.638211  0.0    0.0      0.000000     0.0  0.0  0.000000  0.000000   \n",
       "93    0.000000  0.0    0.0      0.000000     0.0  0.0  0.781768  0.000000   \n",
       "460   0.000000  0.0    0.0      0.000000     0.0  0.0  0.581195  0.000000   \n",
       "561   0.000000  0.0    0.0      0.000000     0.0  0.0  0.000000  0.000000   \n",
       "\n",
       "      betrieb  bilanzsumm  ...  sachanlag   sonstig      summ  umlaufvermog  \\\n",
       "766       0.0    0.488714  ...        0.0  0.000000  0.336073      0.214806   \n",
       "1726      0.0    0.339371  ...        0.0  0.000000  0.233375      0.298330   \n",
       "93        0.0    0.000000  ...        0.0  0.623570  0.000000      0.000000   \n",
       "460       0.0    0.000000  ...        0.0  0.115896  0.151527      0.000000   \n",
       "561       0.0    0.000000  ...        0.0  0.000000  0.000000      0.000000   \n",
       "\n",
       "           und  unternehm   verbind   verbund  vermogensgegenstand       von  \n",
       "766   0.120075   0.000000  0.000000  0.000000                  0.0  0.000000  \n",
       "1726  0.000000   0.000000  0.000000  0.000000                  0.0  0.000000  \n",
       "93    0.000000   0.000000  0.000000  0.000000                  0.0  0.000000  \n",
       "460   0.216556   0.181446  0.147107  0.208702                  0.0  0.440699  \n",
       "561   0.269476   0.000000  0.000000  0.000000                  0.0  0.000000  \n",
       "\n",
       "[5 rows x 44 columns]"
      ]
     },
     "execution_count": 15,
     "metadata": {},
     "output_type": "execute_result"
    }
   ],
   "source": [
    "#Vectorizing\n",
    "model = TfidfVectorizer(min_df=0.1, max_df=0.95)\n",
    "tf_train = model.fit_transform(docs_train) #for training the data\n",
    "tf_test = model.transform(docs_test)  #for testing the accuracy\n",
    "\n",
    "#Feature names\n",
    "features = model.get_feature_names()\n",
    "\n",
    "tf_train = pd.DataFrame(data=tf_train.toarray(),\n",
    "                        index=docs_train.index,    # keeping original idices\n",
    "                        columns=features)           # feature names as columns\n",
    "tf_train.head()"
   ]
  },
  {
   "cell_type": "code",
   "execution_count": 16,
   "metadata": {},
   "outputs": [],
   "source": [
    "# initialize Naive Bayes\n",
    "nb_final = MultinomialNB() #initialize the Naive Bayes classifier for multinomial models\n",
    "nb_final.fit(tf_train, y_train) #Fit Naive Bayes classifier according to X, y \n",
    "\n",
    "#creating the predictions\n",
    "y_pred_NB = nb_final.predict(tf_test)"
   ]
  },
  {
   "cell_type": "code",
   "execution_count": 17,
   "metadata": {},
   "outputs": [
    {
     "name": "stdout",
     "output_type": "stream",
     "text": [
      "                                 precision    recall  f1-score   support\n",
      "\n",
      "                         Aktiva       0.88      1.00      0.93         7\n",
      "                  Anteilsbesitz       0.00      0.00      0.00         1\n",
      "                   Arbeitnehmer       0.00      0.00      0.00         1\n",
      "                         Bilanz       0.80      0.44      0.57         9\n",
      "Entwicklung des Anlagevermögens       0.80      1.00      0.89         8\n",
      "                    Forderungen       1.00      0.67      0.80         6\n",
      "    Gewinn und Verlust Rechnung       0.00      0.00      0.00         6\n",
      "                    Information       0.89      1.00      0.94         8\n",
      "           Kapitalflussrechnung       0.00      0.00      0.00         4\n",
      "                        Passiva       0.71      0.62      0.67         8\n",
      "                 Rückstellungen       0.00      0.00      0.00         5\n",
      "                   Umsatzerlöse       0.00      0.00      0.00         1\n",
      "              Verbindlichkeiten       0.75      0.38      0.50         8\n",
      "                 Vermögenswerte       0.00      0.00      0.00         4\n",
      "                   not relevant       0.29      0.80      0.43        15\n",
      "\n",
      "                       accuracy                           0.56        91\n",
      "                      macro avg       0.41      0.39      0.38        91\n",
      "                   weighted avg       0.54      0.56      0.52        91\n",
      "\n"
     ]
    },
    {
     "name": "stderr",
     "output_type": "stream",
     "text": [
      "C:\\Users\\Friese\\anaconda3\\lib\\site-packages\\sklearn\\metrics\\_classification.py:1221: UndefinedMetricWarning: Precision and F-score are ill-defined and being set to 0.0 in labels with no predicted samples. Use `zero_division` parameter to control this behavior.\n",
      "  _warn_prf(average, modifier, msg_start, len(result))\n"
     ]
    }
   ],
   "source": [
    "#Comparing to actual test results\n",
    "print(classification_report(y_test, y_pred_NB))"
   ]
  },
  {
   "cell_type": "markdown",
   "metadata": {},
   "source": [
    "# Logistic Regression"
   ]
  },
  {
   "cell_type": "code",
   "execution_count": 18,
   "metadata": {},
   "outputs": [],
   "source": [
    "#Initiating LogisticRegression\n",
    "log_reg_final = LogisticRegression(solver='liblinear', random_state=0, C=5, penalty='l2', max_iter=1000)\n",
    "\n",
    "#Fitting the model\n",
    "log_reg_final.fit(tf_train, y_train)\n",
    "\n",
    "#creating the predictions\n",
    "y_pred_log_reg = log_reg_final.predict(tf_test)\n"
   ]
  },
  {
   "cell_type": "code",
   "execution_count": 19,
   "metadata": {},
   "outputs": [
    {
     "name": "stdout",
     "output_type": "stream",
     "text": [
      "                                 precision    recall  f1-score   support\n",
      "\n",
      "                         Aktiva       0.78      1.00      0.88         7\n",
      "                  Anteilsbesitz       0.00      0.00      0.00         1\n",
      "                   Arbeitnehmer       0.00      0.00      0.00         1\n",
      "                         Bilanz       0.75      0.67      0.71         9\n",
      "Entwicklung des Anlagevermögens       0.80      1.00      0.89         8\n",
      "                    Forderungen       0.71      0.83      0.77         6\n",
      "    Gewinn und Verlust Rechnung       0.83      0.83      0.83         6\n",
      "                    Information       0.89      1.00      0.94         8\n",
      "           Kapitalflussrechnung       1.00      0.50      0.67         4\n",
      "                        Passiva       0.80      0.50      0.62         8\n",
      "                 Rückstellungen       1.00      1.00      1.00         5\n",
      "                   Umsatzerlöse       0.00      0.00      0.00         1\n",
      "              Verbindlichkeiten       0.83      0.62      0.71         8\n",
      "                 Vermögenswerte       0.00      0.00      0.00         4\n",
      "                   not relevant       0.37      0.47      0.41        15\n",
      "\n",
      "                       accuracy                           0.68        91\n",
      "                      macro avg       0.58      0.56      0.56        91\n",
      "                   weighted avg       0.69      0.68      0.67        91\n",
      "\n"
     ]
    },
    {
     "name": "stderr",
     "output_type": "stream",
     "text": [
      "C:\\Users\\Friese\\anaconda3\\lib\\site-packages\\sklearn\\metrics\\_classification.py:1221: UndefinedMetricWarning: Precision and F-score are ill-defined and being set to 0.0 in labels with no predicted samples. Use `zero_division` parameter to control this behavior.\n",
      "  _warn_prf(average, modifier, msg_start, len(result))\n"
     ]
    }
   ],
   "source": [
    "print(classification_report(y_test, y_pred_log_reg))"
   ]
  }
 ],
 "metadata": {
  "kernelspec": {
   "display_name": "tws",
   "language": "python",
   "name": "tws"
  },
  "language_info": {
   "codemirror_mode": {
    "name": "ipython",
    "version": 3
   },
   "file_extension": ".py",
   "mimetype": "text/x-python",
   "name": "python",
   "nbconvert_exporter": "python",
   "pygments_lexer": "ipython3",
   "version": "3.7.6"
  }
 },
 "nbformat": 4,
 "nbformat_minor": 4
}
